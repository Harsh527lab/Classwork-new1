{
 "cells": [
  {
   "cell_type": "code",
   "execution_count": 2,
   "id": "1bad44b6-24b4-467e-a51f-a1e7dbf35bd6",
   "metadata": {},
   "outputs": [
    {
     "name": "stdout",
     "output_type": "stream",
     "text": [
      "Collecting ydata-profiling\n",
      "  Downloading ydata_profiling-4.16.1-py2.py3-none-any.whl.metadata (22 kB)\n",
      "Requirement already satisfied: scipy<1.16,>=1.4.1 in /opt/anaconda3/lib/python3.12/site-packages (from ydata-profiling) (1.13.1)\n",
      "Requirement already satisfied: pandas!=1.4.0,<3.0,>1.1 in /opt/anaconda3/lib/python3.12/site-packages (from ydata-profiling) (2.2.2)\n",
      "Requirement already satisfied: matplotlib<=3.10,>=3.5 in /opt/anaconda3/lib/python3.12/site-packages (from ydata-profiling) (3.9.2)\n",
      "Requirement already satisfied: pydantic>=2 in /opt/anaconda3/lib/python3.12/site-packages (from ydata-profiling) (2.8.2)\n",
      "Requirement already satisfied: PyYAML<6.1,>=5.0.0 in /opt/anaconda3/lib/python3.12/site-packages (from ydata-profiling) (6.0.1)\n",
      "Requirement already satisfied: jinja2<3.2,>=2.11.1 in /opt/anaconda3/lib/python3.12/site-packages (from ydata-profiling) (3.1.4)\n",
      "Collecting visions<0.8.2,>=0.7.5 (from visions[type_image_path]<0.8.2,>=0.7.5->ydata-profiling)\n",
      "  Downloading visions-0.8.1-py3-none-any.whl.metadata (11 kB)\n",
      "Requirement already satisfied: numpy<2.2,>=1.16.0 in /opt/anaconda3/lib/python3.12/site-packages (from ydata-profiling) (1.26.4)\n",
      "Collecting htmlmin==0.1.12 (from ydata-profiling)\n",
      "  Downloading htmlmin-0.1.12.tar.gz (19 kB)\n",
      "  Preparing metadata (setup.py) ... \u001b[?25ldone\n",
      "\u001b[?25hCollecting phik<0.13,>=0.11.1 (from ydata-profiling)\n",
      "  Downloading phik-0.12.4-cp312-cp312-macosx_11_0_arm64.whl.metadata (5.6 kB)\n",
      "Requirement already satisfied: requests<3,>=2.24.0 in /opt/anaconda3/lib/python3.12/site-packages (from ydata-profiling) (2.32.3)\n",
      "Requirement already satisfied: tqdm<5,>=4.48.2 in /opt/anaconda3/lib/python3.12/site-packages (from ydata-profiling) (4.66.5)\n",
      "Requirement already satisfied: seaborn<0.14,>=0.10.1 in /opt/anaconda3/lib/python3.12/site-packages (from ydata-profiling) (0.13.2)\n",
      "Collecting multimethod<2,>=1.4 (from ydata-profiling)\n",
      "  Downloading multimethod-1.12-py3-none-any.whl.metadata (9.6 kB)\n",
      "Requirement already satisfied: statsmodels<1,>=0.13.2 in /opt/anaconda3/lib/python3.12/site-packages (from ydata-profiling) (0.14.2)\n",
      "Collecting typeguard<5,>=3 (from ydata-profiling)\n",
      "  Downloading typeguard-4.4.2-py3-none-any.whl.metadata (3.8 kB)\n",
      "Collecting imagehash==4.3.1 (from ydata-profiling)\n",
      "  Downloading ImageHash-4.3.1-py2.py3-none-any.whl.metadata (8.0 kB)\n",
      "Collecting wordcloud>=1.9.3 (from ydata-profiling)\n",
      "  Downloading wordcloud-1.9.4-cp312-cp312-macosx_11_0_arm64.whl.metadata (3.4 kB)\n",
      "Collecting dacite>=1.8 (from ydata-profiling)\n",
      "  Downloading dacite-1.9.2-py3-none-any.whl.metadata (17 kB)\n",
      "Requirement already satisfied: numba<=0.61,>=0.56.0 in /opt/anaconda3/lib/python3.12/site-packages (from ydata-profiling) (0.60.0)\n",
      "Requirement already satisfied: PyWavelets in /opt/anaconda3/lib/python3.12/site-packages (from imagehash==4.3.1->ydata-profiling) (1.7.0)\n",
      "Requirement already satisfied: pillow in /opt/anaconda3/lib/python3.12/site-packages (from imagehash==4.3.1->ydata-profiling) (10.4.0)\n",
      "Requirement already satisfied: MarkupSafe>=2.0 in /opt/anaconda3/lib/python3.12/site-packages (from jinja2<3.2,>=2.11.1->ydata-profiling) (2.1.3)\n",
      "Requirement already satisfied: contourpy>=1.0.1 in /opt/anaconda3/lib/python3.12/site-packages (from matplotlib<=3.10,>=3.5->ydata-profiling) (1.2.0)\n",
      "Requirement already satisfied: cycler>=0.10 in /opt/anaconda3/lib/python3.12/site-packages (from matplotlib<=3.10,>=3.5->ydata-profiling) (0.11.0)\n",
      "Requirement already satisfied: fonttools>=4.22.0 in /opt/anaconda3/lib/python3.12/site-packages (from matplotlib<=3.10,>=3.5->ydata-profiling) (4.51.0)\n",
      "Requirement already satisfied: kiwisolver>=1.3.1 in /opt/anaconda3/lib/python3.12/site-packages (from matplotlib<=3.10,>=3.5->ydata-profiling) (1.4.4)\n",
      "Requirement already satisfied: packaging>=20.0 in /opt/anaconda3/lib/python3.12/site-packages (from matplotlib<=3.10,>=3.5->ydata-profiling) (24.1)\n",
      "Requirement already satisfied: pyparsing>=2.3.1 in /opt/anaconda3/lib/python3.12/site-packages (from matplotlib<=3.10,>=3.5->ydata-profiling) (3.1.2)\n",
      "Requirement already satisfied: python-dateutil>=2.7 in /opt/anaconda3/lib/python3.12/site-packages (from matplotlib<=3.10,>=3.5->ydata-profiling) (2.9.0.post0)\n",
      "Requirement already satisfied: llvmlite<0.44,>=0.43.0dev0 in /opt/anaconda3/lib/python3.12/site-packages (from numba<=0.61,>=0.56.0->ydata-profiling) (0.43.0)\n",
      "Requirement already satisfied: pytz>=2020.1 in /opt/anaconda3/lib/python3.12/site-packages (from pandas!=1.4.0,<3.0,>1.1->ydata-profiling) (2024.1)\n",
      "Requirement already satisfied: tzdata>=2022.7 in /opt/anaconda3/lib/python3.12/site-packages (from pandas!=1.4.0,<3.0,>1.1->ydata-profiling) (2023.3)\n",
      "Requirement already satisfied: joblib>=0.14.1 in /opt/anaconda3/lib/python3.12/site-packages (from phik<0.13,>=0.11.1->ydata-profiling) (1.4.2)\n",
      "Requirement already satisfied: annotated-types>=0.4.0 in /opt/anaconda3/lib/python3.12/site-packages (from pydantic>=2->ydata-profiling) (0.6.0)\n",
      "Requirement already satisfied: pydantic-core==2.20.1 in /opt/anaconda3/lib/python3.12/site-packages (from pydantic>=2->ydata-profiling) (2.20.1)\n",
      "Requirement already satisfied: typing-extensions>=4.6.1 in /opt/anaconda3/lib/python3.12/site-packages (from pydantic>=2->ydata-profiling) (4.11.0)\n",
      "Requirement already satisfied: charset-normalizer<4,>=2 in /opt/anaconda3/lib/python3.12/site-packages (from requests<3,>=2.24.0->ydata-profiling) (3.3.2)\n",
      "Requirement already satisfied: idna<4,>=2.5 in /opt/anaconda3/lib/python3.12/site-packages (from requests<3,>=2.24.0->ydata-profiling) (3.7)\n",
      "Requirement already satisfied: urllib3<3,>=1.21.1 in /opt/anaconda3/lib/python3.12/site-packages (from requests<3,>=2.24.0->ydata-profiling) (2.2.3)\n",
      "Requirement already satisfied: certifi>=2017.4.17 in /opt/anaconda3/lib/python3.12/site-packages (from requests<3,>=2.24.0->ydata-profiling) (2024.12.14)\n",
      "Requirement already satisfied: patsy>=0.5.6 in /opt/anaconda3/lib/python3.12/site-packages (from statsmodels<1,>=0.13.2->ydata-profiling) (0.5.6)\n",
      "Requirement already satisfied: attrs>=19.3.0 in /opt/anaconda3/lib/python3.12/site-packages (from visions<0.8.2,>=0.7.5->visions[type_image_path]<0.8.2,>=0.7.5->ydata-profiling) (23.1.0)\n",
      "Requirement already satisfied: networkx>=2.4 in /opt/anaconda3/lib/python3.12/site-packages (from visions<0.8.2,>=0.7.5->visions[type_image_path]<0.8.2,>=0.7.5->ydata-profiling) (3.3)\n",
      "Collecting puremagic (from visions<0.8.2,>=0.7.5->visions[type_image_path]<0.8.2,>=0.7.5->ydata-profiling)\n",
      "  Downloading puremagic-1.28-py3-none-any.whl.metadata (5.8 kB)\n",
      "Requirement already satisfied: six in /opt/anaconda3/lib/python3.12/site-packages (from patsy>=0.5.6->statsmodels<1,>=0.13.2->ydata-profiling) (1.16.0)\n",
      "Downloading ydata_profiling-4.16.1-py2.py3-none-any.whl (400 kB)\n",
      "Downloading ImageHash-4.3.1-py2.py3-none-any.whl (296 kB)\n",
      "Downloading dacite-1.9.2-py3-none-any.whl (16 kB)\n",
      "Downloading multimethod-1.12-py3-none-any.whl (10 kB)\n",
      "Downloading phik-0.12.4-cp312-cp312-macosx_11_0_arm64.whl (655 kB)\n",
      "\u001b[2K   \u001b[90m━━━━━━━━━━━━━━━━━━━━━━━━━━━━━━━━━━━━━━━━\u001b[0m \u001b[32m655.7/655.7 kB\u001b[0m \u001b[31m3.7 MB/s\u001b[0m eta \u001b[36m0:00:00\u001b[0m\n",
      "\u001b[?25hDownloading typeguard-4.4.2-py3-none-any.whl (35 kB)\n",
      "Downloading visions-0.8.1-py3-none-any.whl (105 kB)\n",
      "Downloading wordcloud-1.9.4-cp312-cp312-macosx_11_0_arm64.whl (168 kB)\n",
      "Downloading puremagic-1.28-py3-none-any.whl (43 kB)\n",
      "Building wheels for collected packages: htmlmin\n",
      "  Building wheel for htmlmin (setup.py) ... \u001b[?25ldone\n",
      "\u001b[?25h  Created wheel for htmlmin: filename=htmlmin-0.1.12-py3-none-any.whl size=27081 sha256=69a02c5b3d1eb1f4f2311e18ff507e4252219b9f079a722d6177b0652f4b46bf\n",
      "  Stored in directory: /Users/harshithgudapati/Library/Caches/pip/wheels/5f/d4/d7/4189b07b5902ee9f3ce0dbb14909fbe8037c39d6c63ffd49c9\n",
      "Successfully built htmlmin\n",
      "Installing collected packages: puremagic, htmlmin, typeguard, multimethod, dacite, imagehash, wordcloud, visions, phik, ydata-profiling\n",
      "Successfully installed dacite-1.9.2 htmlmin-0.1.12 imagehash-4.3.1 multimethod-1.12 phik-0.12.4 puremagic-1.28 typeguard-4.4.2 visions-0.8.1 wordcloud-1.9.4 ydata-profiling-4.16.1\n",
      "Note: you may need to restart the kernel to use updated packages.\n"
     ]
    }
   ],
   "source": [
    "pip install ydata-profiling"
   ]
  },
  {
   "cell_type": "code",
   "execution_count": 1,
   "id": "ed0fae1d-cd85-45cf-8c10-88d6ca17843b",
   "metadata": {},
   "outputs": [
    {
     "data": {
      "text/html": [
       "\n",
       "            <div>\n",
       "                <ins><a href=\"https://ydata.ai/register\">Upgrade to ydata-sdk</a></ins>\n",
       "                <p>\n",
       "                    Improve your data and profiling with ydata-sdk, featuring data quality scoring, redundancy detection, outlier identification, text validation, and synthetic data generation.\n",
       "                </p>\n",
       "            </div>\n",
       "            "
      ],
      "text/plain": [
       "<IPython.core.display.HTML object>"
      ]
     },
     "metadata": {},
     "output_type": "display_data"
    }
   ],
   "source": [
    "import numpy as np\n",
    "import pandas as pd\n",
    "from ydata_profiling import ProfileReport\n"
   ]
  },
  {
   "cell_type": "code",
   "execution_count": 29,
   "id": "a0d8a2ca-4d79-4398-a132-92073013fab1",
   "metadata": {},
   "outputs": [],
   "source": [
    "data = pd.read_csv('red_wine.csv')\n",
    "df = pd.DataFrame(data, columns=[\"citric acid\", \"sulphates\", \"alcohol\", \"type\"])"
   ]
  },
  {
   "cell_type": "code",
   "execution_count": 31,
   "id": "b2402167-58c1-47ed-a6a1-ae9d50299961",
   "metadata": {},
   "outputs": [],
   "source": [
    "profile = ProfileReport(df, title=\"Profiling Report\", explorative = True)"
   ]
  },
  {
   "cell_type": "code",
   "execution_count": 33,
   "id": "f683578f-85d7-4f71-9af5-321bef67a321",
   "metadata": {},
   "outputs": [
    {
     "data": {
      "application/vnd.jupyter.widget-view+json": {
       "model_id": "47a8844a893142068877c35cc1a7b914",
       "version_major": 2,
       "version_minor": 0
      },
      "text/plain": [
       "Summarize dataset:   0%|          | 0/5 [00:00<?, ?it/s]"
      ]
     },
     "metadata": {},
     "output_type": "display_data"
    },
    {
     "name": "stderr",
     "output_type": "stream",
     "text": [
      "\n",
      "100%|████████████████████████████████████████████| 4/4 [00:00<00:00, 191.55it/s]\u001b[A\n"
     ]
    },
    {
     "data": {
      "application/vnd.jupyter.widget-view+json": {
       "model_id": "a43b0c75fa4847c6b090a98deec87606",
       "version_major": 2,
       "version_minor": 0
      },
      "text/plain": [
       "Generate report structure:   0%|          | 0/1 [00:00<?, ?it/s]"
      ]
     },
     "metadata": {},
     "output_type": "display_data"
    },
    {
     "data": {
      "application/vnd.jupyter.widget-view+json": {
       "model_id": "4648af990d4d4c2b9e4f4ec9c9b7058c",
       "version_major": 2,
       "version_minor": 0
      },
      "text/plain": [
       "Render HTML:   0%|          | 0/1 [00:00<?, ?it/s]"
      ]
     },
     "metadata": {},
     "output_type": "display_data"
    },
    {
     "data": {
      "application/vnd.jupyter.widget-view+json": {
       "model_id": "2ed9a85a6c0940e0aa48cf00088dbf0d",
       "version_major": 2,
       "version_minor": 0
      },
      "text/plain": [
       "Export report to file:   0%|          | 0/1 [00:00<?, ?it/s]"
      ]
     },
     "metadata": {},
     "output_type": "display_data"
    }
   ],
   "source": [
    "profile.to_file(\"RED_WINE_report2.html\")"
   ]
  },
  {
   "cell_type": "code",
   "execution_count": 35,
   "id": "780eedba-e2de-4e64-938f-8cf04454906e",
   "metadata": {},
   "outputs": [],
   "source": [
    "import joblib\n",
    "\n",
    "from sklearn.model_selection import StratifiedKFold, cross_val_predict\n",
    "from sklearn.preprocessing import LabelEncoder\n",
    "from sklearn.metrics import accuracy_score, roc_auc_score\n",
    "from sklearn.dummy import DummyClassifier\n",
    "from sklearn.linear_model import LogisticRegression\n",
    "from sklearn.naive_bayes import GaussianNB\n",
    "from sklearn.tree import DecisionTreeClassifier\n",
    "from sklearn.svm import SVC\n",
    "from sklearn.ensemble import RandomForestClassifier"
   ]
  },
  {
   "cell_type": "code",
   "execution_count": 37,
   "id": "5f6840d2-5ec8-40c4-bee3-ba88fa118603",
   "metadata": {},
   "outputs": [],
   "source": [
    "# Load dataset\n",
    "red_wine = pd.read_csv(\"red_wine.csv\")"
   ]
  },
  {
   "cell_type": "code",
   "execution_count": 39,
   "id": "2f1b4a75-b14a-461b-9dea-1c76a593a84d",
   "metadata": {},
   "outputs": [],
   "source": [
    "# Encode target variable (assuming 'low' → 0, 'high' → 1)\n",
    "label_encoder = LabelEncoder()\n",
    "red_wine[\"type\"] = label_encoder.fit_transform(red_wine[\"type\"])\n",
    "\n",
    "# Split features and target variable\n",
    "X_red = red_wine.drop(columns=[\"type\"])\n",
    "y_red = red_wine[\"type\"]\n"
   ]
  },
  {
   "cell_type": "code",
   "execution_count": 41,
   "id": "e103c0e4-a156-4a10-a90a-f8b4362993bd",
   "metadata": {},
   "outputs": [
    {
     "name": "stdout",
     "output_type": "stream",
     "text": [
      "0      1\n",
      "1      1\n",
      "2      0\n",
      "3      1\n",
      "4      1\n",
      "      ..\n",
      "566    1\n",
      "567    0\n",
      "568    0\n",
      "569    1\n",
      "570    0\n",
      "Name: type, Length: 571, dtype: int64\n"
     ]
    }
   ],
   "source": [
    "print(y_red)"
   ]
  },
  {
   "cell_type": "code",
   "execution_count": 43,
   "id": "c3e5555c-33f9-479e-b639-bb54ba8aaec0",
   "metadata": {},
   "outputs": [],
   "source": [
    "# Define 10-fold cross-validation\n",
    "cv = StratifiedKFold(n_splits=10, shuffle=True, random_state=42)"
   ]
  },
  {
   "cell_type": "code",
   "execution_count": 81,
   "id": "715c4a37-e0c1-4a52-8911-bf48d648b061",
   "metadata": {},
   "outputs": [],
   "source": [
    "# ---- Baseline Model (Dummy Classifier) ----\n",
    "dummy_clf = DummyClassifier(strategy=\"most_frequent\")\n",
    "y_pred_dummy = cross_val_predict(dummy_clf, X_red, y_red, cv=cv, method=\"predict\")\n",
    "y_proba_dummy = cross_val_predict(dummy_clf, X_red, y_red, cv=cv, method=\"predict_proba\")[:, 1]\n",
    "\n",
    "# Compute baseline metrics\n",
    "baseline_accuracy = accuracy_score(y_red, y_pred_dummy)\n",
    "baseline_auc = roc_auc_score(y_red, y_proba_dummy)\n",
    "\n",
    "# Store baseline results\n",
    "results2 = {\"Model\": [\"Baseline\"], \"AUC\": [baseline_auc], \"Accuracy\": [baseline_accuracy]}\n"
   ]
  },
  {
   "cell_type": "code",
   "execution_count": 83,
   "id": "6c0191b0-5619-4401-bb7b-9f692a7102e3",
   "metadata": {},
   "outputs": [],
   "source": [
    " #---- Define Models ----\n",
    "models = {\n",
    "    \"Logistic Regression\": LogisticRegression(max_iter=1000, random_state=42),\n",
    "    \"Naive Bayes\": GaussianNB(),\n",
    "    \"Decision Tree\": DecisionTreeClassifier(random_state=42),\n",
    "    \"SVM-Linear\": SVC(kernel=\"linear\", probability=True, random_state=42),\n",
    "    \"SVM-RBF\": SVC(kernel=\"rbf\", probability=True, random_state=42),\n",
    "    \"Random Forest\": RandomForestClassifier(random_state=42)\n",
    "}\n",
    "\n",
    "# ---- Train Models, Evaluate with 10-Fold CV, and Save Weights ----\n",
    "for model_name, model in models.items():\n",
    "    # Train the model on full red wine dataset\n",
    "    model.fit(X_red, y_red)\n",
    "    \n",
    "    # Save trained model weights\n",
    "    joblib.dump(model, f\"{model_name}1.pkl\")\n",
    "\n",
    "    # Evaluate using 10-fold CV\n",
    "    y_pred = cross_val_predict(model, X_red, y_red, cv=cv, method=\"predict\")\n",
    "    y_proba = cross_val_predict(model, X_red, y_red, cv=cv, method=\"predict_proba\")[:, 1]\n",
    "\n",
    "    # Compute metrics\n",
    "    acc = accuracy_score(y_red, y_pred)\n",
    "    auc = roc_auc_score(y_red, y_proba)\n",
    "\n",
    "    # Store results\n",
    "    results2[\"Model\"].append(model_name)\n",
    "    results2[\"AUC\"].append(auc)\n",
    "    results2[\"Accuracy\"].append(acc)\n",
    "\n",
    " # Store Random Forest probabilities for ROC curve\n",
    "    if model_name == \"Random Forest\":\n",
    "        random_forest_probs = y_proba\n",
    "\n"
   ]
  },
  {
   "cell_type": "code",
   "execution_count": 85,
   "id": "706212e2-6547-458f-817a-69af1031dea2",
   "metadata": {
    "scrolled": true
   },
   "outputs": [
    {
     "name": "stdout",
     "output_type": "stream",
     "text": [
      "                 Model       AUC  Accuracy\n",
      "0             Baseline  0.500000  0.528897\n",
      "1  Logistic Regression  0.873938  0.784588\n",
      "2          Naive Bayes  0.890495  0.824869\n",
      "3        Decision Tree  0.797416  0.798599\n",
      "4           SVM-Linear  0.872677  0.793345\n",
      "5              SVM-RBF  0.852981  0.535902\n",
      "6        Random Forest  0.920764  0.840630\n"
     ]
    }
   ],
   "source": [
    "# Convert to DataFrame and display results\n",
    "results_df_3 = pd.DataFrame(results2)\n",
    "print(results_df_3)"
   ]
  },
  {
   "cell_type": "code",
   "execution_count": 99,
   "id": "cb6c531d-6a6c-43fb-b618-9381f01ca881",
   "metadata": {},
   "outputs": [
    {
     "data": {
      "image/png": "[encoded data removed]",
      "text/plain": [
       "<Figure size 800x600 with 1 Axes>"
      ]
     },
     "metadata": {},
     "output_type": "display_data"
    }
   ],
   "source": [
    "\n",
    "import matplotlib.pyplot as plt\n",
    "from sklearn.metrics import roc_curve, roc_auc_score, accuracy_score\n",
    "# ---- Generate and Plot ROC Curve for Random Forest ----\n",
    "if random_forest_probs is not None:\n",
    "    fpr, tpr, _ = roc_curve(y_red, random_forest_probs)\n",
    "    \n",
    "    plt.figure(figsize=(8, 6))\n",
    "    plt.plot(fpr, tpr, color=\"blue\", lw=2, label=f\"Random Forest (AUC = {auc:.2f})\")\n",
    "    plt.plot([0, 1], [0, 1], color=\"gray\", linestyle=\"--\")  # Diagonal line (random model)\n",
    "    plt.xlabel(\"False Positive Rate\")\n",
    "    plt.ylabel(\"True Positive Rate\")\n",
    "    plt.title(\"ROC Curve - Random Forest Model\")\n",
    "    plt.legend(loc=\"lower right\")\n",
    "    plt.grid(True)\n",
    "    plt.show()"
   ]
  },
  {
   "cell_type": "code",
   "execution_count": 112,
   "id": "5de5f6e6-7cbb-40a9-b52e-87ef99e7bc24",
   "metadata": {},
   "outputs": [
    {
     "name": "stdout",
     "output_type": "stream",
     "text": [
      "AUC on white wine dataset: 0.9739633558341368\n"
     ]
    }
   ],
   "source": [
    "# testing the pretrained random forest model on the white_wine.csv \n",
    "\n",
    "# Load best model \n",
    "best_model = joblib.load(\"Random Forest1.pkl\")\n",
    "\n",
    "# Load and preprocess white_wine.csv\n",
    "white_wine = pd.read_csv(\"white_wine.csv\")\n",
    "white_wine[\"type\"] = label_encoder.transform(white_wine[\"type\"])\n",
    "X_white = white_wine.drop(columns=[\"type\"])\n",
    "y_white = white_wine[\"type\"]\n",
    "\n",
    "# Make predictions on white wine dataset\n",
    "\n",
    "y_proba_white = best_model.predict_proba(X_white)[:, 1]\n",
    "\n",
    "auc_white = roc_auc_score(y_white, y_proba_white)\n",
    "\n",
    "print(f\"AUC on white wine dataset: {auc_white}\")\n"
   ]
  },
  {
   "cell_type": "code",
   "execution_count": 116,
   "id": "f6a0b6d3-fef5-4b52-972e-401584c214aa",
   "metadata": {},
   "outputs": [
    {
     "name": "stdout",
     "output_type": "stream",
     "text": [
      "AUC on white wine dataset: 0.9488910318225652\n"
     ]
    }
   ],
   "source": [
    "#Testing the pretrained naive bayes model on the white wine dataset.\n",
    "best_model1 = joblib.load(\"Naive Bayes1.pkl\")\n",
    "\n",
    "# Load and preprocess white_wine.csv\n",
    "white_wine = pd.read_csv(\"white_wine.csv\")\n",
    "white_wine[\"type\"] = label_encoder.transform(white_wine[\"type\"])\n",
    "X_white = white_wine.drop(columns=[\"type\"])\n",
    "y_white = white_wine[\"type\"]\n",
    "\n",
    "# Make predictions on white wine dataset\n",
    "\n",
    "y_proba_white = best_model1.predict_proba(X_white)[:, 1]\n",
    "\n",
    "auc_white = roc_auc_score(y_white, y_proba_white)\n",
    "\n",
    "print(f\"AUC on white wine dataset: {auc_white}\")"
   ]
  },
  {
   "cell_type": "code",
   "execution_count": null,
   "id": "eccfb3b5-e28a-44ab-8f34-d4263217e7b5",
   "metadata": {},
   "outputs": [],
   "source": []
  }
 ],
 "metadata": {
  "kernelspec": {
   "display_name": "Python 3 (ipykernel)",
   "language": "python",
   "name": "python3"
  },
  "language_info": {
   "codemirror_mode": {
    "name": "ipython",
    "version": 3
   },
   "file_extension": ".py",
   "mimetype": "text/x-python",
   "name": "python",
   "nbconvert_exporter": "python",
   "pygments_lexer": "ipython3",
   "version": "3.12.7"
  }
 },
 "nbformat": 4,
 "nbformat_minor": 5
}
